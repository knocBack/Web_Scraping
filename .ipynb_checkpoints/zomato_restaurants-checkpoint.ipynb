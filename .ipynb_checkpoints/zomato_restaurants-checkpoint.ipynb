{
 "cells": [
  {
   "cell_type": "code",
   "execution_count": 30,
   "id": "22e38a37",
   "metadata": {},
   "outputs": [],
   "source": [
    "import requests\n",
    "from bs4 import BeautifulSoup\n",
    "import json\n",
    "import pandas\n",
    "import csv\n",
    "import re"
   ]
  },
  {
   "cell_type": "code",
   "execution_count": 31,
   "id": "af746e1a",
   "metadata": {},
   "outputs": [],
   "source": [
    "headers = {'user-key': '1916a1cbf9ae3cca094d599c14b5bd23'}\n",
    "base_url = \"https://developers.zomato.com/api/v2.1\""
   ]
  },
  {
   "cell_type": "code",
   "execution_count": 32,
   "id": "6960d163",
   "metadata": {},
   "outputs": [
    {
     "data": {
      "text/plain": [
       "200"
      ]
     },
     "execution_count": 32,
     "metadata": {},
     "output_type": "execute_result"
    }
   ],
   "source": [
    "city_name = \"Karimnagar\"\n",
    "url = f\"{base_url}/cities?q={city_name}\"\n",
    "response = requests.get(url,headers=headers)\n",
    "response.status_code"
   ]
  },
  {
   "cell_type": "code",
   "execution_count": 33,
   "id": "5d004d35",
   "metadata": {
    "scrolled": true
   },
   "outputs": [
    {
     "name": "stdout",
     "output_type": "stream",
     "text": [
      "{\n",
      " \"id\": 11456,\n",
      " \"name\": \"Karimnagar\",\n",
      " \"country_id\": 1,\n",
      " \"country_name\": \"India\",\n",
      " \"country_flag_url\": \"https://b.zmtcdn.com/images/countries/flags/country_1.png\",\n",
      " \"should_experiment_with\": 0,\n",
      " \"has_go_out_tab\": 0,\n",
      " \"discovery_enabled\": 0,\n",
      " \"has_new_ad_format\": 1,\n",
      " \"is_state\": 0,\n",
      " \"state_id\": 0,\n",
      " \"state_name\": \"\",\n",
      " \"state_code\": \"\"\n",
      "}\n"
     ]
    }
   ],
   "source": [
    "body = response.json()[\"location_suggestions\"][0]\n",
    "print(json.dumps(body,indent=1))"
   ]
  },
  {
   "cell_type": "code",
   "execution_count": 34,
   "id": "c7a1c893",
   "metadata": {},
   "outputs": [
    {
     "name": "stdout",
     "output_type": "stream",
     "text": [
      "11456\n"
     ]
    }
   ],
   "source": [
    "city_id = body['id']\n",
    "print(city_id)"
   ]
  },
  {
   "cell_type": "code",
   "execution_count": 35,
   "id": "6264fd2d",
   "metadata": {},
   "outputs": [
    {
     "data": {
      "text/plain": [
       "200"
      ]
     },
     "execution_count": 35,
     "metadata": {},
     "output_type": "execute_result"
    }
   ],
   "source": [
    "search_url = f\"{base_url}/search?entity_id={city_id}&entity_type=city\"\n",
    "#search_url = f'https://www.zomato.com/{city_name}'\n",
    "response = requests.get(search_url,headers=headers)\n",
    "response.status_code"
   ]
  },
  {
   "cell_type": "code",
   "execution_count": 36,
   "id": "89dae58d",
   "metadata": {
    "scrolled": true
   },
   "outputs": [],
   "source": [
    "search_result = response.json()\n",
    "#print(json.dumps(search_result,indent=1))"
   ]
  },
  {
   "cell_type": "code",
   "execution_count": 37,
   "id": "ba02c609",
   "metadata": {
    "scrolled": true
   },
   "outputs": [
    {
     "name": "stdout",
     "output_type": "stream",
     "text": [
      "\n"
     ]
    }
   ],
   "source": [
    "\"\"\"\n",
    "using api - 400 BAD REQUEST!\n",
    "restaurant_details = []\n",
    "search_dailymenu_url = f'{base_url}/dailymenu'\n",
    "for i in range(20):\n",
    "    restaurant_id=search_result[\"restaurants\"][i][\"restaurant\"][\"R\"][\"res_id\"]\n",
    "    response = requests.get(f'{search_dailymenu_url}?res_id={restaurant_id}',headers=headers)\n",
    "    if(response.status_code != 200):print(f'{i+1} {response.status_code}')\n",
    "\"\"\"\n",
    "print()"
   ]
  },
  {
   "cell_type": "code",
   "execution_count": 38,
   "id": "c3330bb1",
   "metadata": {},
   "outputs": [],
   "source": [
    "#using restaurant_url\n",
    "restaurant_names = []\n",
    "restaurant_details = []\n",
    "for i in range(20):\n",
    "    name = search_result[\"restaurants\"][i][\"restaurant\"][\"name\"]\n",
    "    name = name.replace(' ','%20')\n",
    "    restaurant_names.append(name)\n",
    "    #print(restaurant_names[i])"
   ]
  },
  {
   "cell_type": "code",
   "execution_count": 39,
   "id": "cc70a92f",
   "metadata": {},
   "outputs": [
    {
     "data": {
      "text/plain": [
       "200"
      ]
     },
     "execution_count": 39,
     "metadata": {},
     "output_type": "execute_result"
    }
   ],
   "source": [
    "zomato_url = \"https://www.zomato.com\"\n",
    "page_no=1\n",
    "headers = {'User-Agent': 'Mozilla/5.0 (Windows NT 10.0; Win64; x64) AppleWebKit/537.36 (KHTML, like Gecko) Chrome/98.0.4758.102 Safari/537.36'}\n",
    "response = requests.get(\"{}/{}/restaurants?page={}\".format(zomato_url,city_name,page_no), headers=headers)\n",
    "response.status_code"
   ]
  },
  {
   "cell_type": "code",
   "execution_count": 40,
   "id": "39f8df76",
   "metadata": {},
   "outputs": [],
   "source": [
    "content = response.content\n",
    "soup = BeautifulSoup(content,\"lxml\")"
   ]
  },
  {
   "cell_type": "code",
   "execution_count": 41,
   "id": "45c0cca1",
   "metadata": {},
   "outputs": [
    {
     "name": "stdout",
     "output_type": "stream",
     "text": [
      "https://www.zomato.com/Karimnagar/restaurants?page=1\n",
      "9\n"
     ]
    }
   ],
   "source": [
    "print(\"https://www.zomato.com/{}/restaurants?page={}\".format(city_name,page_no))\n",
    "#print(soup.prettify())\n",
    "search_list = soup.find_all(\"div\", {\"class\":\"jumbo-tracker\"})\n",
    "print(len(search_list))"
   ]
  },
  {
   "cell_type": "code",
   "execution_count": 42,
   "id": "c32b5f20",
   "metadata": {},
   "outputs": [
    {
     "name": "stdout",
     "output_type": "stream",
     "text": [
      "\n"
     ]
    }
   ],
   "source": [
    "#its copied from another website!\n",
    "'''\n",
    "#print(soup.select('[data-lid]'))\n",
    "for item in soup.select('.jumbo-tracker'):\n",
    "    try:\n",
    "        print('----------------------------------------')\n",
    "        #print(item.prettify())\n",
    "        #print(item.div)\n",
    "\n",
    "    except Exception as e:\n",
    "        #raise e\n",
    "        print('')\n",
    "'''\n",
    "print()"
   ]
  },
  {
   "cell_type": "code",
   "execution_count": 43,
   "id": "3273e660",
   "metadata": {},
   "outputs": [
    {
     "name": "stdout",
     "output_type": "stream",
     "text": [
      "\n"
     ]
    }
   ],
   "source": [
    "#just learnt abt beautiful-soup-4!\n",
    "'''\n",
    "jumbo_tracker = soup.select('.jumbo-tracker')\n",
    "tag = jumbo_tracker[0]\n",
    "#print tag-name\n",
    "print(tag.name) # yes its a div tag!\n",
    "#u can edit tag name in the current soup too!\n",
    "print(tag.attrs)\n",
    "print(tag.get('class'))\n",
    "print(len(soup.find_all(attrs={'class':'jumbo-tracker'})))\n",
    "print(len(soup.find_all('div',attrs={'class':'jumbo-tracker'})))\n",
    "print(len(soup.select('div[class=\"jumbo-tracker\"]')))\n",
    "'''\n",
    "print()"
   ]
  },
  {
   "cell_type": "code",
   "execution_count": 65,
   "id": "af746ada",
   "metadata": {},
   "outputs": [
    {
     "name": "stdout",
     "output_type": "stream",
     "text": [
      "https://www.zomato.com/karimnagar/santosh-family-restaurant-pure-veg-karimnagar-locality-karimnagar-city/order\n",
      "<a class=\"sc-cBqwIa iGqnaI\" href=\"/karimnagar/santosh-family-restaurant-pure-veg-karimnagar-locality-karimnagar-city/order\"><div class=\"sc-fwNAQS joubsj\"><div class=\"sc-fpdzYq cZKTDG\">Promoted</div></div><div class=\"sc-s1isp7-1 jtuXep sc-kFvBWJ hKNTEV\" height=\"24.8rem\" width=\"100%\"><div class=\"sc-s1isp7-3 dqJnoA\" src=\"\"></div><img alt=\"Restaurant Card\" class=\"sc-s1isp7-5 cqxheR\" loading=\"lazy\" src=\"\"/></div><div class=\"sc-eWIzRM JKrgI\"><p class=\"sc-1hez2tp-0 sc-bDOcnW ljPwrK\">50% OFF</p></div><p class=\"sc-1hez2tp-0 sc-cROsgo jIJlPt\">31 min</p></a>\n",
      "Promoted 1\n",
      "Promoted 2\n",
      "50% OFF 3\n",
      "50% OFF 4\n",
      "31 min 5\n",
      "None\n"
     ]
    }
   ],
   "source": [
    "restaurant_details=[]\n",
    "details = search_list[0].div.find_all('a')\n",
    "restaurant_details.append(zomato_url+details[0].get('href'))\n",
    "print(restaurant_details[0])\n",
    "print(details[0])\n",
    "i=1\n",
    "for x in (details[0].find_all(True)):\n",
    "    if(x.string!=None):\n",
    "        print(x.string+' {}'.format(i))\n",
    "        i+=1\n"
   ]
  },
  {
   "cell_type": "code",
   "execution_count": null,
   "id": "d1120153",
   "metadata": {},
   "outputs": [],
   "source": []
  }
 ],
 "metadata": {
  "kernelspec": {
   "display_name": "Python 3",
   "language": "python",
   "name": "python3"
  },
  "language_info": {
   "codemirror_mode": {
    "name": "ipython",
    "version": 3
   },
   "file_extension": ".py",
   "mimetype": "text/x-python",
   "name": "python",
   "nbconvert_exporter": "python",
   "pygments_lexer": "ipython3",
   "version": "3.8.8"
  }
 },
 "nbformat": 4,
 "nbformat_minor": 5
}
